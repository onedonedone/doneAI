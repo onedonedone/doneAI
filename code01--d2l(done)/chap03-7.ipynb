{
 "cells": [
  {
   "cell_type": "markdown",
   "metadata": {},
   "source": [
    "# 图像分类任务"
   ]
  },
  {
   "cell_type": "markdown",
   "metadata": {},
   "source": [
    "## 图像分类数据集的引入"
   ]
  },
  {
   "cell_type": "code",
   "execution_count": 1,
   "metadata": {},
   "outputs": [],
   "source": [
    "import torch\n",
    "import torchvision"
   ]
  },
  {
   "cell_type": "code",
   "execution_count": 2,
   "metadata": {},
   "outputs": [],
   "source": [
    "def loadFashion(batchSize:int = 256, reSize:int = False, numWorkers:int =4, isDownloaded:bool = True):\n",
    "    trans = []\n",
    "    if reSize:\n",
    "        trans.append(torchvision.transforms.Resize(reSize))\n",
    "    trans.append(torchvision.transforms.ToTensor())\n",
    "    trans = torchvision.transforms.Compose(trans)\n",
    "    trainData = torchvision.datasets.FashionMNIST(root='./data', train=True, transform=trans, download=isDownloaded)\n",
    "    testData = torchvision.datasets.FashionMNIST(root='./data', train=False, transform=trans, download=isDownloaded)\n",
    "    return (torch.utils.data.DataLoader(trainData, batchSize, shuffle=True, num_workers=numWorkers), torch.utils.data.DataLoader(testData, batchSize, shuffle=False, num_workers=numWorkers))"
   ]
  },
  {
   "cell_type": "code",
   "execution_count": 3,
   "metadata": {},
   "outputs": [],
   "source": [
    "trainData, testData = loadFashion()"
   ]
  },
  {
   "cell_type": "markdown",
   "metadata": {},
   "source": [
    "## Softmax回归"
   ]
  },
  {
   "cell_type": "markdown",
   "metadata": {},
   "source": [
    "### 初始化模型与参数"
   ]
  },
  {
   "cell_type": "code",
   "execution_count": 4,
   "metadata": {},
   "outputs": [
    {
     "data": {
      "text/plain": [
       "tensor([0., 0., 0., 0., 0., 0., 0., 0., 0., 0.])"
      ]
     },
     "execution_count": 4,
     "metadata": {},
     "output_type": "execute_result"
    }
   ],
   "source": [
    "net = torch.nn.Sequential(torch.nn.Flatten(), torch.nn.Linear(784, 10))\n",
    "net[1].weight.data.normal_(mean=0., std=0.1)\n",
    "net[1].bias.data.fill_(0.)"
   ]
  },
  {
   "cell_type": "markdown",
   "metadata": {},
   "source": [
    "### 定义损失函数"
   ]
  },
  {
   "cell_type": "code",
   "execution_count": 5,
   "metadata": {},
   "outputs": [],
   "source": [
    "loss = torch.nn.CrossEntropyLoss(reduction='none')"
   ]
  },
  {
   "cell_type": "markdown",
   "metadata": {},
   "source": [
    "### 优化算法"
   ]
  },
  {
   "cell_type": "code",
   "execution_count": 6,
   "metadata": {},
   "outputs": [],
   "source": [
    "trainer = torch.optim.SGD(net.parameters(), lr=0.1)"
   ]
  },
  {
   "cell_type": "markdown",
   "metadata": {},
   "source": [
    "### 训练模型"
   ]
  },
  {
   "cell_type": "code",
   "execution_count": 7,
   "metadata": {},
   "outputs": [],
   "source": [
    "epochs = 50\n",
    "for epoch in range(epochs):\n",
    "    for X, y in trainData:\n",
    "        l = loss(net(X), y)\n",
    "        trainer.zero_grad()\n",
    "        l.sum().backward()      # Don't forget sum()\n",
    "        trainer.step()\n"
   ]
  },
  {
   "cell_type": "markdown",
   "metadata": {},
   "source": [
    "### 判断正确率"
   ]
  },
  {
   "cell_type": "code",
   "execution_count": 8,
   "metadata": {},
   "outputs": [
    {
     "name": "stdout",
     "output_type": "stream",
     "text": [
      "tensor(0.8231)\n"
     ]
    }
   ],
   "source": [
    "right = 0\n",
    "count = 0\n",
    "for X, y in testData:\n",
    "    right += (net(X).argmax(axis=1)==y).sum()\n",
    "    count += y.numel()\n",
    "print(right/count)"
   ]
  }
 ],
 "metadata": {
  "interpreter": {
   "hash": "1e147cb73cde116f65fef45c392b359187d7b526e04d5e817a013b76f7eee0c1"
  },
  "kernelspec": {
   "display_name": "Python 3.8.13 ('d2l')",
   "language": "python",
   "name": "python3"
  },
  "language_info": {
   "codemirror_mode": {
    "name": "ipython",
    "version": 3
   },
   "file_extension": ".py",
   "mimetype": "text/x-python",
   "name": "python",
   "nbconvert_exporter": "python",
   "pygments_lexer": "ipython3",
   "version": "3.8.13"
  },
  "orig_nbformat": 4
 },
 "nbformat": 4,
 "nbformat_minor": 2
}
